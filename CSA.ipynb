{
  "nbformat": 4,
  "nbformat_minor": 0,
  "metadata": {
    "colab": {
      "provenance": []
    },
    "kernelspec": {
      "name": "python3",
      "display_name": "Python 3"
    },
    "language_info": {
      "name": "python"
    }
  },
  "cells": [
    {
      "cell_type": "code",
      "source": [
        "from google.colab import drive\n",
        "drive.mount('/content/drive')"
      ],
      "metadata": {
        "id": "rejJpkDf4oci"
      },
      "execution_count": null,
      "outputs": []
    },
    {
      "cell_type": "code",
      "source": [
        "import pandas as pd\n",
        "import matplotlib.pyplot as plt"
      ],
      "metadata": {
        "id": "JIW5A3TRHg1k"
      },
      "execution_count": null,
      "outputs": []
    },
    {
      "cell_type": "code",
      "source": [
        "df0 = pd.read_excel('/content/drive/MyDrive/PTDL/Customer Segment Analysis/dataset/Orders.xlsx')\n",
        "df0"
      ],
      "metadata": {
        "id": "Kkjb2ZzDHnT4"
      },
      "execution_count": null,
      "outputs": []
    },
    {
      "cell_type": "markdown",
      "source": [
        "TIỀN XỬ LÝ DỮ LIỆU"
      ],
      "metadata": {
        "id": "eTRdH7jvNwli"
      }
    },
    {
      "cell_type": "code",
      "source": [
        "df0.isna().sum()"
      ],
      "metadata": {
        "id": "JesNpFMOEgEd"
      },
      "execution_count": null,
      "outputs": []
    },
    {
      "cell_type": "code",
      "source": [
        "df0.describe()\n"
      ],
      "metadata": {
        "id": "mT3mIT71cvun"
      },
      "execution_count": null,
      "outputs": []
    },
    {
      "cell_type": "code",
      "source": [
        "#------------------------------------------------------------Missing------------------------------------------------------------------------------------------\n",
        "#Điền CustomerID cho những đơn hàng bị thiếu nếu đơn hàng đó tồn tại InvoiceNo\n",
        "#Sau đó xóa tất cả những đơn bị thiếu CustomerID hoặc InvoiceNo, tạo df mới k có NaN\n",
        "InvoiceCustomer_dict = df0.groupby('InvoiceNo')['CustomerID'].first().to_dict()\n",
        "InvoiceCustomer_dict\n"
      ],
      "metadata": {
        "id": "H0eMp00x7qsa"
      },
      "execution_count": null,
      "outputs": []
    },
    {
      "cell_type": "code",
      "source": [
        "df0['CustomerID'] = df0.apply(lambda row: row['CustomerID'] if pd.notna(row['CustomerID'])\n",
        "                    else InvoiceCustomer_dict.get(row['InvoiceNo'], row['CustomerID']), axis=1)\n",
        "df = df0.dropna(subset=['CustomerID', 'InvoiceNo'],how = 'any')\n",
        "\n",
        "df.describe()"
      ],
      "metadata": {
        "id": "gjLdRv_ci_gh"
      },
      "execution_count": null,
      "outputs": []
    },
    {
      "cell_type": "code",
      "source": [
        "\n",
        "\n",
        "#-----------------------------------------------------------Outliners------------------------------------------------------------------------------------------\n",
        "#Xóa những dòng có UnitPrice âm\n",
        "df = df[df['UnitPrice'] > 0]\n",
        "#Xóa giá trị trùng\n",
        "df.drop_duplicates(inplace = True)\n",
        "df.describe()"
      ],
      "metadata": {
        "id": "LEcmame6lLW5"
      },
      "execution_count": null,
      "outputs": []
    },
    {
      "cell_type": "markdown",
      "source": [
        "Phân tích dữ liệu"
      ],
      "metadata": {
        "id": "VyvDFjzIf4S4"
      }
    },
    {
      "cell_type": "code",
      "source": [
        "#Tính các chỉ số RFM\n",
        "#Recency\n",
        "import datetime\n",
        "cur_date = max(df['InvoiceDate'] + datetime.timedelta(days= 1))\n",
        "df['InvoiceDate']= pd.to_datetime(df['InvoiceDate'])\n",
        "Recency = df.groupby('CustomerID').agg({'InvoiceDate': lambda d:  (cur_date -d.max()).days  })\n",
        "\n",
        "\n",
        "\n",
        "#Frequency\n",
        "Frequency = df.groupby('CustomerID')['InvoiceNo'].count()\n",
        "\n",
        "#Montary Value\n",
        "df['Total'] = df['UnitPrice'] * df['Quantity']\n",
        "Montary = df.groupby('CustomerID')['Total'].sum()\n",
        "\n",
        "#RFM\n",
        "rfm = pd.concat([Recency,Frequency,Montary],axis = 1)\n",
        "rfm.columns = (['Recency','Frequency','Montary Value'])\n",
        "rfm.describe()"
      ],
      "metadata": {
        "id": "F2AfAVKJNbM3"
      },
      "execution_count": null,
      "outputs": []
    },
    {
      "cell_type": "code",
      "source": [
        "plt.figure(figsize=(12, 6))\n",
        "n, bins, patches = plt.hist(rfm['Recency'], bins=33, alpha=0.9)\n",
        "plt.title('Distribution of Recency')\n",
        "plt.xlabel('Recency')\n",
        "plt.ylabel('Number of Customers')\n",
        "\n",
        "for i in range(len(patches)):\n",
        "    plt.text(patches[i].get_x() + patches[i].get_width()/2, n[i], int(n[i]), ha='center', va='bottom')\n",
        "\n",
        "plt.show()"
      ],
      "metadata": {
        "id": "ux1yPTAWxhYv"
      },
      "execution_count": null,
      "outputs": []
    },
    {
      "cell_type": "code",
      "source": [
        "df_subset_f = rfm[rfm['Frequency'] > 1000]\n",
        "plt.figure(figsize=(12, 6))\n",
        "n, bins, patches = plt.hist(rfm['Frequency'][rfm['Frequency'] < 1100], bins=35, alpha=0.9, label='Frequency < 1000')\n",
        "plt.hist(df_subset_f['Frequency'], bins=bins, alpha=0.5, label='Frequency > 1000')\n",
        "plt.title('Distribution of Frequency')\n",
        "plt.xlabel('Frequency')\n",
        "plt.ylabel('Number of Customers')\n",
        "plt.legend()\n",
        "for i in range(len(patches)):\n",
        "    if i < len(patches) - 1:\n",
        "        plt.text(patches[i].get_x() + patches[i].get_width() / 2, n[i], int(n[i]), ha='center', va='bottom')\n",
        "    else:\n",
        "        plt.text(patches[i].get_x() + patches[i].get_width() -15, n[i] - 83, f\"{int(n[i])}\\n>1000\", ha='center', va='bottom')\n",
        "plt.show()"
      ],
      "metadata": {
        "id": "NREqX-ZsxiGF"
      },
      "execution_count": null,
      "outputs": []
    },
    {
      "cell_type": "code",
      "source": [
        "plt.figure(figsize=(12, 6))\n",
        "n, bins, patches = plt.hist(rfm['Montary Value'][rfm['Montary Value']< 50000 ], bins=50, alpha=1-0.1)\n",
        "plt.yscale('log')\n",
        "plt.title('Monetary Value (log scale)')\n",
        "plt.xlabel('Monetary Value')\n",
        "plt.ylabel('Number of Customers (log scale)')\n",
        "plt.gca().yaxis.set_major_formatter(ticker.ScalarFormatter())\n",
        "for i in range(len(patches)):\n",
        "    if n[i] > 0:\n",
        "        plt.text(patches[i].get_x() + patches[i].get_width()/2, n[i], int(n[i]), ha='center', va='bottom')\n",
        "plt.show()"
      ],
      "metadata": {
        "id": "xG7yIEFuxmRj"
      },
      "execution_count": null,
      "outputs": []
    },
    {
      "cell_type": "code",
      "source": [
        "#Rời rạc hóa các chỉ số RFM\n",
        "bins_r = [0, 30, 60, 180, float('inf')]\n",
        "labels_r = [4, 3, 2, 1]\n",
        "\n",
        "bins_f = [0, 25, 50, 100, float('inf')]\n",
        "labels_f = [1, 2, 3, 4]\n",
        "\n",
        "bins_m = [-4287, 300, 800, 1700, float('inf')]\n",
        "labels_m = [1, 2, 3, 4]\n",
        "\n",
        "# Rời rạc hóa các cột theo khoảng và nhãn đã xác định\n",
        "\n",
        "r = pd.cut(rfm['Recency'], bins = bins_r, labels=labels_r)\n",
        "f = pd.cut(rfm['Frequency'],bins=bins_f, labels=labels_f)\n",
        "m = pd.cut(rfm['Montary Value'],bins=bins_m, labels=labels_m )\n",
        "rfm['R-F-M'] = r.astype(str)+ '-' + f.astype(str) + '-' +m.astype(str)\n",
        "rfm\n"
      ],
      "metadata": {
        "id": "0QTLZtsA8_c1"
      },
      "execution_count": null,
      "outputs": []
    },
    {
      "cell_type": "code",
      "source": [
        "\n",
        "Loyal_Customer = rfm[rfm['R-F-M'].isin(['4-4-4', '4-4-3', '4-3-4', '3-4-4', '3-3-4'])]\n",
        "\n",
        "\n",
        "\n",
        "Potential_Loyalist =  rfm[rfm['R-F-M'].isin([  '4-4-2', '4-4-1', '4-3-3', '4-3-2', '4-3-1' ,'3-4-3', '3-4-2', '3-4-1', '3-3-3', '3-3-2', '3-3-1'])]\n",
        "Recent_Customer =   rfm[rfm['R-F-M'].isin([  '4-2-2', '4-2-1', '4-1-2', '4-1-1', '3-2-2', '3-2-1', '3-1-2', '3-1-1'])]\n",
        "Promising =  rfm[rfm['R-F-M'].isin([   '4-2-4', '4-2-3', '4-1-4', '4-1-3', '3-1-4', '3-1-3'])]\n",
        "Customer_Needing_Attention = rfm[rfm['R-F-M'].isin([   '3-2-4', '3-2-3'])]\n",
        "At_Risk = rfm[rfm['R-F-M'].isin([    '2-4-2', '2-4-1', '2-3-2', '2-3-1', '2-2-2', '1-4-2', '1-4-1', '1-3-2'])]\n",
        "Cant_Lose_Them = rfm[rfm['R-F-M'].isin([    '2-4-4', '2-4-3', '2-3-4', '2-3-3', '2-2-4', '2-2-3', '2-1-4', '2-1-3', '1-4-4', '1-4-3', '1-3-4', '1-3-3', '1-2-4', '1-2-3', '1-1-4', '1-1-3'])]\n",
        "Hibernating = rfm[rfm['R-F-M'].isin([    '2-2-1', '2-1-2', '2-1-1', '1-3-1', '1-2-2'])]\n",
        "Lost = rfm[rfm['R-F-M'].isin([  '1-2-1', '1-1-2', '1-1-1'])]\n",
        "Promising\n"
      ],
      "metadata": {
        "id": "Z6bXoZL2H_VJ"
      },
      "execution_count": null,
      "outputs": []
    },
    {
      "cell_type": "code",
      "source": [],
      "metadata": {
        "id": "VEcmJUDBAcrk"
      },
      "execution_count": null,
      "outputs": []
    },
    {
      "cell_type": "code",
      "source": [
        "# Tên từng phân khúc\n",
        "seg = ['Loyal_Customer', 'Potential_Loyalist',  'Promising','Recent_Customer', 'Customer_Needing_Attention', 'At_Risk ', 'Cant_Lose_Them', 'Hibernating','Lost']\n",
        "\n",
        "# Số khách hàng của phân khúc\n",
        "seg_customers = [len(Loyal_Customer), len(Potential_Loyalist),  len(Promising),len(Recent_Customer), len(Customer_Needing_Attention), len(At_Risk), len(Cant_Lose_Them), len(Hibernating), len(Lost)]\n",
        "\n",
        "total_customers = sum(seg_customers)\n",
        "\n",
        "# Tính phần trăm khách hàng của mỗi nhóm so với tổng số khách hàng\n",
        "seg_percents = [seg_customers[i] / total_customers * 100 for i in range(len(seg_customers))]\n",
        "\n",
        "#Vẽ\n",
        "plt.figure(figsize=(10, 10))\n",
        "wedges, texts, autotexts = plt.pie(seg_percents, labels=None, autopct='%1.1f%%', startangle=140)\n",
        "\n",
        "\n",
        "# Chú thích\n",
        "note = []\n",
        "for i in range(9):\n",
        "  note.append( seg[i] + ': ' + str(seg_customers[i]))\n",
        "plt.legend(wedges, note, title=('Total Customer: ' + str(total_customers)), loc='center left', bbox_to_anchor=(1, 0.5))\n",
        "plt.show()"
      ],
      "metadata": {
        "id": "J9XMMCppHYRb"
      },
      "execution_count": null,
      "outputs": []
    },
    {
      "cell_type": "code",
      "source": [
        "#Chia lại\n",
        "loy_custome = len(Loyal_Customer)+ len(Potential_Loyalist) + len(Promising)\n",
        "non_loy = total_customers - loy_custome\n",
        "seg2 = ['Khách hàng thân thiết: ' +str(loy_custome), 'Khách hàng thông thường: '+ str(non_loy)]\n",
        "sizes = [loy_custome, non_loy]\n",
        "colors = ['#ffff14', '#069af3']\n",
        "\n",
        "\n",
        "# Vẽ biểu đồ tròn\n",
        "plt.figure(figsize=(8, 8))\n",
        "explode = [0.05 if label == seg2[0] else -0.0001 for label in seg2]\n",
        "plt.pie(sizes, labels=seg2, colors=colors, autopct='%1.0f%%',\n",
        "       explode=explode ,startangle=320, labeldistance= 0.1)\n",
        "plt.title('Tổng số khách hàng: ' + str(total_customers))\n",
        "\n",
        "\n",
        "\n",
        "\n",
        "\n",
        "\n"
      ],
      "metadata": {
        "id": "XPpPqfNHzHDu"
      },
      "execution_count": null,
      "outputs": []
    },
    {
      "cell_type": "code",
      "source": [
        "#Đọc file CustomerDetails vào df_cu\n",
        "df_cu = df0 = pd.read_excel('/content/drive/MyDrive/PTDL/Customer Segment Analysis/dataset/CustomerDetails.xlsx')\n",
        "df_cu"
      ],
      "metadata": {
        "id": "8XiX1j7PNzGo"
      },
      "execution_count": null,
      "outputs": []
    },
    {
      "cell_type": "code",
      "source": [
        "#Kết từng df phân khúc với bảng CustomerDetails qua thuộc tính CustomerID\n",
        "df_loyal = pd.merge(df_cu, Loyal_Customer, on='CustomerID', how='inner')\n",
        "[['CustomerID', 'First Name','Last Name', 'Company','City', 'Country','Phone 1',\n",
        "  'Phone 2','Email', 'Subscription Date','Website']]\n",
        "df_loyal.to_excel('loyal.xlsx')\n",
        "df_loyal\n"
      ],
      "metadata": {
        "id": "oIF99Vw7T3Fn"
      },
      "execution_count": null,
      "outputs": []
    },
    {
      "cell_type": "code",
      "source": [
        "\n",
        "df_potentail = pd.merge(df_cu, Potential_Loyalist, on='CustomerID', how='inner')[['CustomerID', 'First Name','Last Name', 'Company','City', 'Country','Phone 1', 'Phone 2','Email', 'Subscription Date','Website']]\n",
        "df_potentail.to_excel('potential.xlsx')\n",
        "df_recent = pd.merge(df_cu, Recent_Customer, on='CustomerID', how='inner')[['CustomerID', 'First Name','Last Name', 'Company','City', 'Country','Phone 1', 'Phone 2','Email', 'Subscription Date','Website']]\n",
        "df_recent.to_excel('recent.xlsx')\n",
        "df_prosiming = pd.merge(df_cu, Promising, on='CustomerID', how='inner')[['CustomerID', 'First Name','Last Name', 'Company','City', 'Country','Phone 1', 'Phone 2','Email', 'Subscription Date','Website']]\n",
        "df_prosiming.to_excel('promising.xlsx')\n",
        "df_cu_need_att = pd.merge(df_cu, Customer_Needing_Attention, on='CustomerID', how='inner')[['CustomerID', 'First Name','Last Name', 'Company','City', 'Country','Phone 1', 'Phone 2','Email', 'Subscription Date','Website']]\n",
        "df_cu_need_att.to_excel('need_attention.xlsx')\n",
        "df_at_risk = pd.merge(df_cu, At_Risk, on='CustomerID', how='inner')[['CustomerID', 'First Name','Last Name', 'Company','City', 'Country','Phone 1', 'Phone 2','Email', 'Subscription Date','Website']]\n",
        "df_at_risk.to_excel('at_risk.xlsx')\n",
        "df_cant_lose = pd.merge(df_cu, Cant_Lose_Them, on='CustomerID', how='inner')[['CustomerID', 'First Name','Last Name', 'Company','City', 'Country','Phone 1', 'Phone 2','Email', 'Subscription Date','Website']]\n",
        "df_cant_lose.to_excel('cant_lose.xlsx')\n",
        "df_hibernate = pd.merge(df_cu, Hibernating, on='CustomerID', how='inner')[['CustomerID', 'First Name','Last Name', 'Company','City', 'Country','Phone 1', 'Phone 2','Email', 'Subscription Date','Website']]\n",
        "df_hibernate.to_excel('hibernating.xlsx')\n",
        "df_lost = pd.merge(df_cu, Lost, on='CustomerID', how='inner')[['CustomerID', 'First Name','Last Name', 'Company','City', 'Country','Phone 1', 'Phone 2','Email', 'Subscription Date','Website']]\n",
        "df_lost.to_excel('lost.xlsx')"
      ],
      "metadata": {
        "id": "4qDTPCA8GHvL"
      },
      "execution_count": null,
      "outputs": []
    }
  ]
}